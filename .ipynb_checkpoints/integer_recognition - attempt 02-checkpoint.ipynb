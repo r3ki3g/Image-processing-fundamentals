{
 "cells": [
  {
   "cell_type": "markdown",
   "id": "94861d6a",
   "metadata": {},
   "source": [
    "# Integer recognition - Attempt 02\n",
    "\n",
    "Expectation: Recognize digit 2 & 4 distinctively with a ML code entirely implemented by me from the scratch<br/>\n",
    "<hr/>\n",
    "Data set for \"2\" : D:/ENTC/SEM_4/EN2550 - Fundamentals of Image Processing and Machine Vision/~images/int-rec/2/ <br/>\n",
    "Data set for \"4\" : D:/ENTC/SEM_4/EN2550 - Fundamentals of Image Processing and Machine Vision/~images/int-rec/4/\n"
   ]
  },
  {
   "cell_type": "markdown",
   "id": "b634e0eb",
   "metadata": {},
   "source": [
    "### Importing libraries"
   ]
  },
  {
   "cell_type": "code",
   "execution_count": 1,
   "id": "04661f5e",
   "metadata": {
    "ExecuteTime": {
     "end_time": "2022-04-15T14:00:35.805754Z",
     "start_time": "2022-04-15T14:00:30.910010Z"
    }
   },
   "outputs": [],
   "source": [
    "import cv2 as cv\n",
    "import time\n",
    "import os\n",
    "import numpy as np\n",
    "import scipy\n",
    "import matplotlib.pyplot as plt\n",
    "import scipy.signal as sig\n",
    "import pprint\n",
    "import json\n",
    "import scipy.stats as scistat"
   ]
  },
  {
   "cell_type": "code",
   "execution_count": 2,
   "id": "3bb93314",
   "metadata": {
    "ExecuteTime": {
     "end_time": "2022-04-15T14:00:35.821714Z",
     "start_time": "2022-04-15T14:00:35.810687Z"
    }
   },
   "outputs": [],
   "source": [
    "dataFolder2 = r\"D:/ENTC/SEM_4/EN2550 - Fundamentals of Image Processing and Machine Vision/~images/int-rec/2/\"\n",
    "dataFiles2 = os.listdir(dataFolder2)\n",
    "\n",
    "dataFolder4 = r\"D:/ENTC/SEM_4/EN2550 - Fundamentals of Image Processing and Machine Vision/~images/int-rec/4/\"\n",
    "dataFiles4 = os.listdir(dataFolder4)"
   ]
  },
  {
   "cell_type": "markdown",
   "id": "576e41bb",
   "metadata": {},
   "source": [
    "### Remove empty-whitespace arround an image by zooming tp the content"
   ]
  },
  {
   "cell_type": "code",
   "execution_count": 3,
   "id": "194efd5a",
   "metadata": {
    "ExecuteTime": {
     "end_time": "2022-04-15T14:00:36.136038Z",
     "start_time": "2022-04-15T14:00:35.827688Z"
    }
   },
   "outputs": [
    {
     "data": {
      "text/plain": [
       "<matplotlib.image.AxesImage at 0x24a22716b80>"
      ]
     },
     "execution_count": 3,
     "metadata": {},
     "output_type": "execute_result"
    },
    {
     "data": {
      "image/png": "[encoded data removed]",
      "text/plain": [
       "<Figure size 432x288 with 2 Axes>"
      ]
     },
     "metadata": {
      "needs_background": "light"
     },
     "output_type": "display_data"
    }
   ],
   "source": [
    "def focusToContent(img):\n",
    "    img_ = 255*(img < 128).astype(np.uint8) \n",
    "    coords = cv.findNonZero(img_) # Find all non-zero points (text)\n",
    "    x, y, w, h = cv.boundingRect(coords) # Find minimum spanning bounding box\n",
    "    \n",
    "    rect = img[y:y+h, x:x+w] # Crop the image - note we do this on the original image\n",
    "    rect_originalSized = cv.resize(rect,(img.shape))\n",
    "    return rect_originalSized\n",
    "    \n",
    "\n",
    "#testing\n",
    "img = cv.imread(r\"D:/ENTC/SEM_4/EN2550 - Fundamentals of Image Processing and Machine Vision/~images/int-rec/test/1650009171.5083215.png\",0)\n",
    "assert img is not None\n",
    "focused = focusToContent(img)\n",
    "\n",
    "fig,ax = plt.subplots(1,2)\n",
    "ax[0].imshow(img,cmap=\"gray\")\n",
    "ax[1].imshow(focused,cmap=\"gray\")"
   ]
  },
  {
   "cell_type": "markdown",
   "id": "75da1e57",
   "metadata": {},
   "source": [
    "### Generating random kernels/filters to detect basic shapes from data images\n",
    "\n",
    "also saving them as JSON for back up"
   ]
  },
  {
   "cell_type": "code",
   "execution_count": 4,
   "id": "8942b9ca",
   "metadata": {
    "ExecuteTime": {
     "end_time": "2022-04-15T14:00:36.420133Z",
     "start_time": "2022-04-15T14:00:36.139935Z"
    }
   },
   "outputs": [],
   "source": [
    "ksize =7\n",
    "kernelCount = 300\n",
    "cmap=\"gray\"\n",
    "\n",
    "filters = []\n",
    "tries =0\n",
    "while len(filters) < kernelCount:\n",
    "    tries += 1\n",
    "    testKernel = np.random.rand(ksize,ksize)\n",
    "    testKernel -= np.mean(testKernel)\n",
    "    testKernel = 2*np.array(testKernel > 0,np.float32) \n",
    "    testKernel -= 1\n",
    "    testKernel[testKernel.shape[0]//2,testKernel.shape[1]//2] -= np.sum(testKernel)\n",
    "    \n",
    "    #checking if this kernel already in the filters array\n",
    "    isUnique =1\n",
    "    for filter in filters:\n",
    "        if np.all(filter==testKernel):\n",
    "            isUnique = 0\n",
    "    if isUnique:\n",
    "        filters.append(testKernel)\n",
    "\n",
    "        \n",
    "#saving filters as json \n",
    "filtersJsonFolder = \"D:/ENTC/SEM_4/EN2550 - Fundamentals of Image Processing and Machine Vision/Image-processing-fundamentals/integer-rec/\"\n",
    "filtersAsArrays = [] #because numpy arrays cannot be converted to JSON obj\n",
    "for filter in filters:\n",
    "    filtersAsArrays.append(filter.tolist())\n",
    "f=open(filtersJsonFolder + str(time.time()) + \".txt\",\"w\")\n",
    "f.write(json.dumps(filtersAsArrays))\n",
    "f.close()\n",
    "\n"
   ]
  },
  {
   "cell_type": "markdown",
   "id": "dd766cb5",
   "metadata": {},
   "source": [
    "### Feature threshold values\n",
    "After filtering, the results should be cleaned. So the non-dominant activations will be zeroed using these thresholds.\n"
   ]
  },
  {
   "cell_type": "code",
   "execution_count": 5,
   "id": "b6adc702",
   "metadata": {
    "ExecuteTime": {
     "end_time": "2022-04-15T14:00:36.436188Z",
     "start_time": "2022-04-15T14:00:36.421079Z"
    },
    "scrolled": false
   },
   "outputs": [],
   "source": [
    "featureTresVals = [0.3,0.4,0.5,0.6,0.7,0.75,0.8,0.85,0.9,0.95,0.99]"
   ]
  },
  {
   "cell_type": "markdown",
   "id": "a5fe6dc5",
   "metadata": {},
   "source": [
    "## Training for \"2\" or  \"4\"\n"
   ]
  },
  {
   "cell_type": "code",
   "execution_count": 6,
   "id": "761c2c9a",
   "metadata": {
    "ExecuteTime": {
     "end_time": "2022-04-15T14:00:36.451234Z",
     "start_time": "2022-04-15T14:00:36.437190Z"
    }
   },
   "outputs": [],
   "source": [
    "trainingDataFileFolder = dataFolder2\n",
    "trainingFiles = dataFiles2\n",
    "dataFileCount = len(trainingFiles)\n",
    "\n",
    "trainingDataFileFolder_negative = dataFolder4\n",
    "trainingFiles_negative = dataFiles4\n",
    "dataFileCount_negative = len(trainingFiles_negative)\n"
   ]
  },
  {
   "cell_type": "markdown",
   "id": "416b1ddd",
   "metadata": {},
   "source": [
    "### Parameters \n",
    "There are $N_k$ kernels and $N_t$ threshold  values, resulting in $N_kN_t$ processes.<br/>\n",
    "Let result from one of those process be $R_{ij}$ ; $i = kernel\\ index$ and $j = threshold\\ index$ \n",
    "<br/>\n",
    "Output should be a weighted sum of all process results ($R_{ij}$)\n",
    "<br/>\n",
    "Those weights are the parameters, which are changed to minimize the error\n",
    "<br/>\n",
    "As $R_{ij}$ are 2D, these parameters $\\alpha_{ij}$ also are 2D\n",
    "<br/>\n",
    "In this \"params\" variable, all the 2D-parameters are saved as a matrix.So variable param is a 4D-array.\n",
    "\n",
    "\n",
    "<hr/>\n",
    "\n",
    "First the initial parameters are generated/guessed as the averageZeroed normalized average of all the results (per process).<br/>\n",
    "Which is better than starting from a random 2D array!"
   ]
  },
  {
   "cell_type": "markdown",
   "id": "903d199a",
   "metadata": {},
   "source": [
    "### Initializing param"
   ]
  },
  {
   "cell_type": "code",
   "execution_count": 7,
   "id": "954db16e",
   "metadata": {
    "ExecuteTime": {
     "end_time": "2022-04-15T14:01:33.544485Z",
     "start_time": "2022-04-15T14:00:36.453193Z"
    }
   },
   "outputs": [
    {
     "ename": "KeyboardInterrupt",
     "evalue": "",
     "output_type": "error",
     "traceback": [
      "\u001b[1;31m---------------------------------------------------------------------------\u001b[0m",
      "\u001b[1;31mKeyboardInterrupt\u001b[0m                         Traceback (most recent call last)",
      "\u001b[1;32m~\\AppData\\Local\\Temp/ipykernel_8332/283216352.py\u001b[0m in \u001b[0;36m<module>\u001b[1;34m\u001b[0m\n\u001b[0;32m      8\u001b[0m         \u001b[1;32mfor\u001b[0m \u001b[0mfileIndex\u001b[0m \u001b[1;32min\u001b[0m \u001b[0mrange\u001b[0m\u001b[1;33m(\u001b[0m\u001b[0mlen\u001b[0m\u001b[1;33m(\u001b[0m\u001b[0mtrainingFiles\u001b[0m\u001b[1;33m)\u001b[0m\u001b[1;33m)\u001b[0m\u001b[1;33m:\u001b[0m\u001b[1;33m\u001b[0m\u001b[1;33m\u001b[0m\u001b[0m\n\u001b[0;32m      9\u001b[0m             \u001b[0mfilePath\u001b[0m \u001b[1;33m=\u001b[0m \u001b[0mtrainingDataFileFolder\u001b[0m \u001b[1;33m+\u001b[0m \u001b[0mtrainingFiles\u001b[0m\u001b[1;33m[\u001b[0m\u001b[0mfileIndex\u001b[0m\u001b[1;33m]\u001b[0m\u001b[1;33m\u001b[0m\u001b[1;33m\u001b[0m\u001b[0m\n\u001b[1;32m---> 10\u001b[1;33m             \u001b[0mdataImg\u001b[0m \u001b[1;33m=\u001b[0m \u001b[0mcv\u001b[0m\u001b[1;33m.\u001b[0m\u001b[0mimread\u001b[0m\u001b[1;33m(\u001b[0m\u001b[0mfilePath\u001b[0m\u001b[1;33m,\u001b[0m\u001b[1;36m0\u001b[0m\u001b[1;33m)\u001b[0m\u001b[1;33m\u001b[0m\u001b[1;33m\u001b[0m\u001b[0m\n\u001b[0m\u001b[0;32m     11\u001b[0m             \u001b[1;32massert\u001b[0m \u001b[0mdataImg\u001b[0m \u001b[1;32mis\u001b[0m \u001b[1;32mnot\u001b[0m \u001b[1;32mNone\u001b[0m\u001b[1;33m\u001b[0m\u001b[1;33m\u001b[0m\u001b[0m\n\u001b[0;32m     12\u001b[0m             \u001b[0mdataImg\u001b[0m \u001b[1;33m=\u001b[0m \u001b[0mfocusToContent\u001b[0m\u001b[1;33m(\u001b[0m\u001b[0mdataImg\u001b[0m\u001b[1;33m)\u001b[0m\u001b[1;33m\u001b[0m\u001b[1;33m\u001b[0m\u001b[0m\n",
      "\u001b[1;31mKeyboardInterrupt\u001b[0m: "
     ]
    }
   ],
   "source": [
    "#initial parameters are generated/guessed as the normalized average of all the results (per process)\n",
    "params = []\n",
    "for filterIndex in range(len(filters)):\n",
    "    thisFilter = filters[filterIndex]\n",
    "    parameterArrayForThisKernel =[]\n",
    "    for featureTres in featureTresVals:\n",
    "        avgForProcess = 0 #will be a 2D image (average)\n",
    "        for fileIndex in range(len(trainingFiles)):\n",
    "            filePath = trainingDataFileFolder + trainingFiles[fileIndex]\n",
    "            dataImg = cv.imread(filePath,0)\n",
    "            assert dataImg is not None\n",
    "            dataImg = focusToContent(dataImg)\n",
    "            dataImg = dataImg.astype(np.float32)\n",
    "            \n",
    "            filtered = cv.filter2D(dataImg,-1,thisFilter)\n",
    "            thresholderMask = filtered > np.max(filtered) * featureTres\n",
    "            thresholdedResult = filtered*thresholderMask\n",
    "            \n",
    "            \n",
    "            if not fileIndex:\n",
    "                avgForProcess = thresholdedResult/dataFileCount\n",
    "            else:\n",
    "                avgForProcess += thresholdedResult/dataFileCount\n",
    "                \n",
    "        avgForProcess /= np.sum(avgForProcess) #normalizing\n",
    "        avgForProcess -= np.mean(avgForProcess) #mean zeroing\n",
    "        parameterArrayForThisKernel.append(avgForProcess)\n",
    "    params.append(parameterArrayForThisKernel)    \n",
    "        "
   ]
  },
  {
   "cell_type": "code",
   "execution_count": null,
   "id": "f31a398c",
   "metadata": {
    "ExecuteTime": {
     "end_time": "2022-04-15T14:01:33.549420Z",
     "start_time": "2022-04-15T14:01:33.549420Z"
    }
   },
   "outputs": [],
   "source": [
    "params[0][0][50][4]"
   ]
  },
  {
   "cell_type": "markdown",
   "id": "6625f7b3",
   "metadata": {},
   "source": [
    "### Fine tuning \"params\" the 4D array\n",
    "\"prams\" has $N_k$ X $N_t$ X $h_{data}$ X $w_{data}$  parameters\n",
    "<br/>\n",
    "Only for each process, each 2D_parameter will be scaled. That is; their distribution is only depending on the average of results.\n"
   ]
  },
  {
   "cell_type": "code",
   "execution_count": null,
   "id": "50f78c5f",
   "metadata": {
    "ExecuteTime": {
     "end_time": "2022-04-15T14:01:33.550420Z",
     "start_time": "2022-04-15T14:01:33.550420Z"
    },
    "scrolled": true
   },
   "outputs": [],
   "source": [
    "corrTres = 0.001\n",
    "alpha = 0\n",
    "\n",
    "print(\"total processes\", len(filters)*len(featureTresVals))\n",
    "\n",
    "for fileIndex in range(len(trainingFiles)):\n",
    "    paramRes = []\n",
    "    filePath = trainingDataFileFolder + trainingFiles[fileIndex]\n",
    "    dataImg = cv.imread(filePath,0)\n",
    "    assert dataImg is not None\n",
    "    dataImg = focusToContent(dataImg)\n",
    "    dataImg = dataImg.astype(np.float32)\n",
    "    \n",
    "    #r3ki3g\n",
    "    #dataImg = cv.GaussianBlur(dataImg,(5,5),4) #blured after seeing the feature-detection-filtering\n",
    "    \n",
    "    for filterIndex in range(len(filters)):\n",
    "        corrsForThisFilter =[]\n",
    "        thisFilter = filters[filterIndex]\n",
    "        parameterArrayForThisKernel =[]\n",
    "        for featureTresIndex in range(len(featureTresVals)):\n",
    "            featureTres = featureTresVals[featureTresIndex]\n",
    "\n",
    "            #the parameter (2D) for this process (consisting by this kernel and treshold)\n",
    "            parameter2D = params[filterIndex][featureTresIndex] #normalized,averageZeroed\n",
    "            #r3ki3g\n",
    "            parameter2D = cv.GaussianBlur(parameter2D,(7,7),4)\n",
    "        \n",
    "            \n",
    "            filtered = cv.filter2D(dataImg,-1,thisFilter)\n",
    "            #r3ki3g\n",
    "            filtered = cv.GaussianBlur(filtered,(5,5),4)\n",
    "            thresholderMask = filtered > np.max(filtered) * featureTres\n",
    "            thresholdedResult = filtered*thresholderMask\n",
    "            thresholdedResultNorm = thresholdedResult / np.sum(thresholdedResult)#normalizing\n",
    "            thresholdedResultNormAVGZERO = thresholdedResultNorm - np.mean(thresholdedResultNorm) #averageZeroing\n",
    "            correlation = np.sum(thresholdedResultNormAVGZERO*parameter2D)\n",
    "            #print(correlation)\n",
    "            corrsForThisFilter.append(correlation)\n",
    "        paramRes.append(corrsForThisFilter)\n",
    "        \n",
    "    npParamRes = np.array(paramRes)\n",
    "    dominant = np.logical_and(npParamRes > 0,npParamRes>corrTres)\n",
    "    \n",
    "#     fig,ax = plt.subplots()\n",
    "#     ax.imshow(dataImg,cmap=cmap)\n",
    "#     ax.set_title(str(np.sum(dominant)))\n",
    "#     plt.show()\n",
    "    \n",
    "    \n",
    "    #print(\"activations:\",fileIndex,\":\",np.sum(dominant))\n",
    "    #should add some essence of this dataimage_filteredresult to the non-dominant parameters (so it will be more corelated and dominant next time)\n",
    "    if 1:\n",
    "        for filterIndex in range(len(filters)):\n",
    "            for featureTresIndex in range(len(featureTresVals)):\n",
    "                if not dominant[filterIndex,featureTresIndex]:\n",
    "                    #add essence to params\n",
    "                    filtered = cv.GaussianBlur(filtered,(9,9),4)\n",
    "                    thresholderMask = filtered > np.max(filtered) * featureTres\n",
    "                    thresholdedResult = filtered*thresholderMask\n",
    "                    thresholdedResultNorm = thresholdedResult / np.sum(thresholdedResult)#normalizing\n",
    "                    thresholdedResultNormAVGZERO = thresholdedResultNorm - np.mean(thresholdedResultNorm)\n",
    "                    params[filterIndex][featureTresIndex] += (thresholdedResultNormAVGZERO * alpha / dataFileCount)\n",
    "\n",
    "           \n",
    "        "
   ]
  },
  {
   "cell_type": "code",
   "execution_count": null,
   "id": "a9eebcbd",
   "metadata": {
    "ExecuteTime": {
     "end_time": "2022-04-15T14:01:33.551419Z",
     "start_time": "2022-04-15T14:01:33.551419Z"
    }
   },
   "outputs": [],
   "source": [
    "print(\"total params\",len(paramRes))\n",
    "npParamRes = np.array(paramRes)\n",
    "\n",
    "np.sum(npParamRes <0)"
   ]
  },
  {
   "cell_type": "code",
   "execution_count": null,
   "id": "ea68269f",
   "metadata": {
    "ExecuteTime": {
     "end_time": "2022-04-15T14:01:33.555439Z",
     "start_time": "2022-04-15T14:01:33.555439Z"
    },
    "scrolled": true
   },
   "outputs": [],
   "source": [
    "propotionNeededToSayATriggableProcess = 0.8\n",
    "goodProcesses = [] # kernel and tres value\n",
    "\n",
    "isGoodProcess  = [];#matrix of all kernel X tres\n",
    "\n",
    "for filterIndex in range(len(filters)):\n",
    "    corrsForThisFilter =[]\n",
    "    thisFilter = filters[filterIndex]\n",
    "    parameterArrayForThisKernel =[]\n",
    "    goodOrBadThisFilterForeachTres = []\n",
    "    for featureTresIndex in range(len(featureTresVals)):\n",
    "        featureTres = featureTresVals[featureTresIndex]\n",
    "        scoreThisProcess = 0\n",
    "        #the parameter (2D) for this process (consisting by this kernel and treshold)\n",
    "        parameter2D = params[filterIndex][featureTresIndex] #normalized,averageZeroed\n",
    "        #r3ki3g\n",
    "        parameter2D = cv.GaussianBlur(parameter2D,(7,7),4)\n",
    "\n",
    "        for fileIndex in range(len(trainingFiles)):\n",
    "            \n",
    "            filePath = trainingDataFileFolder + trainingFiles[fileIndex]\n",
    "            dataImg = cv.imread(filePath,0)\n",
    "            assert dataImg is not None\n",
    "            dataImg = focusToContent(dataImg)\n",
    "            dataImg = dataImg.astype(np.float32)\n",
    "\n",
    "            #r3ki3g\n",
    "            #dataImg = cv.GaussianBlur(dataImg,(5,5),4) #blured after seeing the feature-detection-filtering\n",
    "    \n",
    "\n",
    "            filtered = cv.filter2D(dataImg,-1,thisFilter)\n",
    "            #r3ki3g\n",
    "            filtered = cv.GaussianBlur(filtered,(5,5),4)\n",
    "            thresholderMask = filtered > np.max(filtered) * featureTres\n",
    "            thresholdedResult = filtered*thresholderMask\n",
    "            thresholdedResultNorm = thresholdedResult / np.sum(thresholdedResult)#normalizing\n",
    "            thresholdedResultNormAVGZERO = thresholdedResultNorm - np.mean(thresholdedResultNorm) #averageZeroing\n",
    "            correlation = np.sum(thresholdedResultNormAVGZERO*parameter2D)\n",
    "            if correlation>corrTres:\n",
    "                \n",
    "                scoreThisProcess+=1\n",
    "        #print(\"score\",scoreThisProcess)\n",
    "        requirementToGoodProcess = scoreThisProcess > propotionNeededToSayATriggableProcess * len(trainingFiles)\n",
    "        goodOrBadThisFilterForeachTres.append(requirementToGoodProcess)\n",
    "        if requirementToGoodProcess:\n",
    "            goodProcesses.append([thisFilter,featureTres])\n",
    "            \n",
    "    isGoodProcess.append(goodOrBadThisFilterForeachTres)\n",
    "      \n",
    "\n",
    "        \n",
    "\n",
    "\n",
    "     "
   ]
  },
  {
   "cell_type": "code",
   "execution_count": null,
   "id": "9e573ec6",
   "metadata": {
    "ExecuteTime": {
     "end_time": "2022-04-15T14:01:33.559466Z",
     "start_time": "2022-04-15T14:01:33.559466Z"
    }
   },
   "outputs": [],
   "source": [
    "isGoodProcess  "
   ]
  },
  {
   "cell_type": "code",
   "execution_count": null,
   "id": "c47ec7da",
   "metadata": {
    "ExecuteTime": {
     "end_time": "2022-04-15T14:01:33.561423Z",
     "start_time": "2022-04-15T14:01:33.561423Z"
    },
    "scrolled": false
   },
   "outputs": [],
   "source": [
    "print(len(goodProcesses))\n",
    "\n",
    "print(np.sum(isGoodProcess))"
   ]
  },
  {
   "cell_type": "markdown",
   "id": "0d00fd26",
   "metadata": {},
   "source": [
    "Now \"isGoodProcess\" have the all the (kernel,tres) status whetehr good or not. That is only by seen the activation for positives.\n",
    "\n",
    "<br/>\n",
    "Should also find the deactivation for negatives and combine to get the best (kernel,tres) set!"
   ]
  },
  {
   "cell_type": "code",
   "execution_count": null,
   "id": "8709205b",
   "metadata": {
    "ExecuteTime": {
     "end_time": "2022-04-15T14:01:33.563420Z",
     "start_time": "2022-04-15T14:01:33.563420Z"
    }
   },
   "outputs": [],
   "source": [
    "__propotionNeededToSayANotTriggableProcess = 0.8 #processes with less than 1-{} will be counted\n",
    "goodProcesses_negative = [] # kernel and tres value\n",
    "\n",
    "isGoodProcess_negative  = [];#matrix of all kernel X tres\n",
    "\n",
    "for filterIndex in range(len(filters)):\n",
    "    corrsForThisFilter =[]\n",
    "    thisFilter = filters[filterIndex]\n",
    "    parameterArrayForThisKernel =[]\n",
    "    goodOrBadThisFilterForeachTres_negative = []\n",
    "    for featureTresIndex in range(len(featureTresVals)):\n",
    "        featureTres = featureTresVals[featureTresIndex]\n",
    "        scoreThisProcess_negative = 0\n",
    "        #the parameter (2D) for this process (consisting by this kernel and treshold)\n",
    "        parameter2D = params[filterIndex][featureTresIndex] #normalized,averageZeroed\n",
    "        #r3ki3g\n",
    "        parameter2D = cv.GaussianBlur(parameter2D,(7,7),4)\n",
    "\n",
    "        for fileIndex in range(len(trainingFiles_negative)):\n",
    "            \n",
    "            filePath = trainingDataFileFolder_negative + trainingFiles_negative[fileIndex]\n",
    "            dataImg = cv.imread(filePath,0)\n",
    "            assert dataImg is not None\n",
    "            dataImg = focusToContent(dataImg)\n",
    "            dataImg = dataImg.astype(np.float32)\n",
    "\n",
    "            #r3ki3g\n",
    "            #dataImg = cv.GaussianBlur(dataImg,(5,5),4) #blured after seeing the feature-detection-filtering\n",
    "    \n",
    "\n",
    "            filtered = cv.filter2D(dataImg,-1,thisFilter)\n",
    "            #r3ki3g\n",
    "            filtered = cv.GaussianBlur(filtered,(5,5),4)\n",
    "            thresholderMask = filtered > np.max(filtered) * featureTres\n",
    "            thresholdedResult = filtered*thresholderMask\n",
    "            thresholdedResultNorm = thresholdedResult / np.sum(thresholdedResult)#normalizing\n",
    "            thresholdedResultNormAVGZERO = thresholdedResultNorm - np.mean(thresholdedResultNorm) #averageZeroing\n",
    "            correlation = np.sum(thresholdedResultNormAVGZERO*parameter2D)\n",
    "            #not correlated => good process (as not triggered by a negetive)\n",
    "            if correlation<corrTres:\n",
    "                scoreThisProcess_negative+=1\n",
    "        #print(\"score\",scoreThisProcess)\n",
    "        requirementToGoodProcess_negative = scoreThisProcess_negative > __propotionNeededToSayANotTriggableProcess * len(trainingFiles_negative)\n",
    "        goodOrBadThisFilterForeachTres_negative.append(requirementToGoodProcess_negative)\n",
    "        if requirementToGoodProcess_negative:\n",
    "            goodProcesses_negative.append([thisFilter,featureTres])\n",
    "            \n",
    "    isGoodProcess_negative.append(goodOrBadThisFilterForeachTres_negative)\n",
    "      \n",
    "\n",
    "        \n"
   ]
  },
  {
   "cell_type": "code",
   "execution_count": null,
   "id": "e28026ab",
   "metadata": {
    "ExecuteTime": {
     "end_time": "2022-04-15T14:01:33.564422Z",
     "start_time": "2022-04-15T14:01:33.564422Z"
    }
   },
   "outputs": [],
   "source": [
    "\n",
    "print(len(goodProcesses_negative))\n",
    "\n",
    "print(np.sum(isGoodProcess_negative))\n",
    "     "
   ]
  },
  {
   "cell_type": "markdown",
   "id": "6619c8cc",
   "metadata": {},
   "source": [
    "### \"isBestPRocess\"\n",
    "This is the boolean matrix: each process (kernel,tres) is good at drawing a line between \"2\" and \"4\".<br/>\n",
    "That is; they will activate on majority of positives and deactivate in majority of negatives!"
   ]
  },
  {
   "cell_type": "code",
   "execution_count": null,
   "id": "bcf77c0a",
   "metadata": {
    "ExecuteTime": {
     "end_time": "2022-04-15T14:01:33.566423Z",
     "start_time": "2022-04-15T14:01:33.566423Z"
    },
    "scrolled": true
   },
   "outputs": [],
   "source": [
    "isBestProcess = np.logical_and(isGoodProcess,isGoodProcess_negative)\n",
    "print(np.sum(isBestProcess))"
   ]
  },
  {
   "cell_type": "markdown",
   "id": "975e5ae0",
   "metadata": {},
   "source": [
    "### Making the array of bestProcesses ; all and only suitable (kernel,tres) found will be in this array\n"
   ]
  },
  {
   "cell_type": "code",
   "execution_count": null,
   "id": "73b3d5a6",
   "metadata": {
    "ExecuteTime": {
     "end_time": "2022-04-15T14:01:33.568420Z",
     "start_time": "2022-04-15T14:01:33.568420Z"
    }
   },
   "outputs": [],
   "source": [
    "bestProcesses = []\n",
    "bestParams = []\n",
    "for filterIndex in range(len(filters)):\n",
    "    thisFilter = filters[filterIndex]\n",
    "    for featureTresIndex in range(len(featureTresVals)):\n",
    "        featureTres = featureTresVals[featureTresIndex]\n",
    "        if isBestProcess[filterIndex][featureTresIndex]:\n",
    "            bestProcesses.append([thisFilter,featureTres])\n",
    "            bestParams.append(params[filterIndex][featureTresIndex])"
   ]
  },
  {
   "cell_type": "code",
   "execution_count": null,
   "id": "931f8da6",
   "metadata": {
    "ExecuteTime": {
     "end_time": "2022-04-15T14:01:33.573420Z",
     "start_time": "2022-04-15T14:01:33.573420Z"
    }
   },
   "outputs": [],
   "source": [
    "bestProcesses"
   ]
  },
  {
   "cell_type": "code",
   "execution_count": null,
   "id": "04ea58ae",
   "metadata": {
    "ExecuteTime": {
     "end_time": "2022-04-15T14:01:33.576423Z",
     "start_time": "2022-04-15T14:01:33.576423Z"
    }
   },
   "outputs": [],
   "source": [
    "bestParams"
   ]
  },
  {
   "cell_type": "markdown",
   "id": "93fd052a",
   "metadata": {},
   "source": [
    "### Drawing some testing images (freezed as not always used)"
   ]
  },
  {
   "cell_type": "code",
   "execution_count": 71,
   "id": "ffeb8e75",
   "metadata": {
    "ExecuteTime": {
     "end_time": "2022-04-15T07:58:49.649432Z",
     "start_time": "2022-04-15T07:58:34.766286Z"
    },
    "deletable": false,
    "editable": false,
    "run_control": {
     "frozen": true
    }
   },
   "outputs": [
    {
     "ename": "KeyboardInterrupt",
     "evalue": "",
     "output_type": "error",
     "traceback": [
      "\u001b[1;31m---------------------------------------------------------------------------\u001b[0m",
      "\u001b[1;31mKeyboardInterrupt\u001b[0m                         Traceback (most recent call last)",
      "\u001b[1;32m~\\AppData\\Local\\Temp/ipykernel_17788/2720347058.py\u001b[0m in \u001b[0;36m<module>\u001b[1;34m\u001b[0m\n\u001b[0;32m      2\u001b[0m \u001b[1;33m\u001b[0m\u001b[0m\n\u001b[0;32m      3\u001b[0m \u001b[1;32mwhile\u001b[0m \u001b[1;36m1\u001b[0m\u001b[1;33m:\u001b[0m\u001b[1;33m\u001b[0m\u001b[1;33m\u001b[0m\u001b[0m\n\u001b[1;32m----> 4\u001b[1;33m     \u001b[0mimgNew\u001b[0m \u001b[1;33m=\u001b[0m \u001b[0mcv\u001b[0m\u001b[1;33m.\u001b[0m\u001b[0mimread\u001b[0m\u001b[1;33m(\u001b[0m\u001b[0mbase\u001b[0m\u001b[1;33m+\u001b[0m\u001b[1;34m\"1.png\"\u001b[0m\u001b[1;33m,\u001b[0m\u001b[1;36m0\u001b[0m\u001b[1;33m)\u001b[0m\u001b[1;33m;\u001b[0m\u001b[1;33m\u001b[0m\u001b[1;33m\u001b[0m\u001b[0m\n\u001b[0m\u001b[0;32m      5\u001b[0m     \u001b[1;32mif\u001b[0m \u001b[0mimgNew\u001b[0m \u001b[1;32mis\u001b[0m \u001b[1;32mNone\u001b[0m\u001b[1;33m:\u001b[0m\u001b[1;33m\u001b[0m\u001b[1;33m\u001b[0m\u001b[0m\n\u001b[0;32m      6\u001b[0m         \u001b[1;32mcontinue\u001b[0m\u001b[1;33m\u001b[0m\u001b[1;33m\u001b[0m\u001b[0m\n",
      "\u001b[1;31mKeyboardInterrupt\u001b[0m: "
     ]
    }
   ],
   "source": [
    "base = r\"D:/ENTC/SEM_4/EN2550 - Fundamentals of Image Processing and Machine Vision/~images/int-rec/test/\"\n",
    "\n",
    "while 1:\n",
    "    imgNew = cv.imread(base+\"1.png\",0);\n",
    "    if imgNew is None:\n",
    "        continue\n",
    "    imgLast = cv.imread(base+\"2.png\",0);\n",
    "    \n",
    "    if (not(imgNew==imgLast).all()):\n",
    "        cv.imwrite(base+\"2.png\",imgNew)\n",
    "        cv.imwrite(base + str(time.time()) + \".png\",imgNew)\n",
    "\n",
    "        \n",
    "        "
   ]
  },
  {
   "cell_type": "markdown",
   "id": "a663600c",
   "metadata": {},
   "source": [
    "### Testing phase\n",
    "<span class=\"mark\">set testing data folder correctly</span>"
   ]
  },
  {
   "cell_type": "code",
   "execution_count": null,
   "id": "5928d3b3",
   "metadata": {
    "ExecuteTime": {
     "end_time": "2022-04-15T14:01:33.577455Z",
     "start_time": "2022-04-15T14:01:33.577455Z"
    },
    "scrolled": false
   },
   "outputs": [],
   "source": [
    "corrTres = 0.001\n",
    "totalBestProcessesCount = len(bestProcesses)\n",
    "testingDataFileFolder =r\"D:/ENTC/SEM_4/EN2550 - Fundamentals of Image Processing and Machine Vision/~images/int-rec/test/\"\n",
    "testingFiles = os.listdir(testingDataFileFolder)\n",
    "\n",
    "\n",
    "\n",
    "for fileIndex in range(len(testingFiles)):\n",
    "    noOfTotalActivationsFromBest_proc_params = 0\n",
    "    filePath = testingDataFileFolder + testingFiles[fileIndex]\n",
    "    dataImg = cv.imread(filePath,0)\n",
    "    assert dataImg is not None\n",
    "    dataImg = focusToContent(dataImg)\n",
    "    dataImg = dataImg.astype(np.float32)\n",
    "    \n",
    "    #r3ki3g\n",
    "    #dataImg = cv.GaussianBlur(dataImg,(5,5),4) #blured after seeing the feature-detection-filtering\n",
    "    \n",
    "    for bestProcessIndex in range(len(bestProcesses)):\n",
    "        thisBestProcess = bestProcesses[bestProcessIndex]\n",
    "        thisFilter = thisBestProcess[0]\n",
    "        featureTres = thisBestProcess[1]\n",
    "        \n",
    "\n",
    "        #the parameter (2D) for this process (consisting by this kernel and treshold)\n",
    "        parameter2D = bestParams[bestProcessIndex] #normalized,averageZeroed\n",
    "        #r3ki3g\n",
    "        parameter2D = cv.GaussianBlur(parameter2D,(7,7),4)\n",
    "\n",
    "\n",
    "        filtered = cv.filter2D(dataImg,-1,thisFilter)\n",
    "        #r3ki3g\n",
    "        filtered = cv.GaussianBlur(filtered,(5,5),4)\n",
    "        thresholderMask = filtered > np.max(filtered) * featureTres\n",
    "        thresholdedResult = filtered*thresholderMask\n",
    "        thresholdedResultNorm = thresholdedResult / np.sum(thresholdedResult)#normalizing\n",
    "        thresholdedResultNormAVGZERO = thresholdedResultNorm - np.mean(thresholdedResultNorm) #averageZeroing\n",
    "        correlation = np.sum(thresholdedResultNormAVGZERO*parameter2D)\n",
    "       \n",
    "        activated = correlation > corrTres\n",
    "        if activated:\n",
    "            noOfTotalActivationsFromBest_proc_params+=1\n",
    "    fig,ax = plt.subplots()\n",
    "    ax.imshow(dataImg,cmap=cmap)\n",
    "    ax.set_title(\"activation = \" + str(round(100*noOfTotalActivationsFromBest_proc_params/totalBestProcessesCount,2)) + \"%\")\n",
    "    plt.show()\n",
    "        \n",
    "   "
   ]
  },
  {
   "cell_type": "markdown",
   "id": "dd42905c",
   "metadata": {},
   "source": [
    "## Summary "
   ]
  },
  {
   "cell_type": "markdown",
   "id": "78265094",
   "metadata": {},
   "source": [
    "Now it is able to draw a line beteween 2 and 4!<br/>\n",
    "Also can see the difference between other digits even while never being seen them"
   ]
  },
  {
   "cell_type": "markdown",
   "id": "5692de54",
   "metadata": {},
   "source": [
    "### Records\n",
    "Keeping kernel sizes,kernel count and threshold values of each result to see whether how those selections affect the classification process"
   ]
  },
  {
   "cell_type": "markdown",
   "id": "6f4e71e4",
   "metadata": {},
   "source": [
    "ksize =3<br/>\n",
    "kernelCount = 150</br>\n",
    "featureTresVals = [0.5,0.6,0.7,0.8,0.9]"
   ]
  }
 ],
 "metadata": {
  "kernelspec": {
   "display_name": "Python 3 (ipykernel)",
   "language": "python",
   "name": "python3"
  },
  "language_info": {
   "codemirror_mode": {
    "name": "ipython",
    "version": 3
   },
   "file_extension": ".py",
   "mimetype": "text/x-python",
   "name": "python",
   "nbconvert_exporter": "python",
   "pygments_lexer": "ipython3",
   "version": "3.9.1"
  },
  "latex_envs": {
   "LaTeX_envs_menu_present": true,
   "autoclose": false,
   "autocomplete": true,
   "bibliofile": "biblio.bib",
   "cite_by": "apalike",
   "current_citInitial": 1,
   "eqLabelWithNumbers": true,
   "eqNumInitial": 1,
   "hotkeys": {
    "equation": "Ctrl-E",
    "itemize": "Ctrl-I"
   },
   "labels_anchors": false,
   "latex_user_defs": false,
   "report_style_numbering": false,
   "user_envs_cfg": false
  },
  "toc": {
   "base_numbering": 1,
   "nav_menu": {},
   "number_sections": true,
   "sideBar": true,
   "skip_h1_title": false,
   "title_cell": "Table of Contents",
   "title_sidebar": "Contents",
   "toc_cell": false,
   "toc_position": {
    "height": "calc(100% - 180px)",
    "left": "10px",
    "top": "150px",
    "width": "347.667px"
   },
   "toc_section_display": true,
   "toc_window_display": true
  },
  "varInspector": {
   "cols": {
    "lenName": 16,
    "lenType": 16,
    "lenVar": 40
   },
   "kernels_config": {
    "python": {
     "delete_cmd_postfix": "",
     "delete_cmd_prefix": "del ",
     "library": "var_list.py",
     "varRefreshCmd": "print(var_dic_list())"
    },
    "r": {
     "delete_cmd_postfix": ") ",
     "delete_cmd_prefix": "rm(",
     "library": "var_list.r",
     "varRefreshCmd": "cat(var_dic_list()) "
    }
   },
   "types_to_exclude": [
    "module",
    "function",
    "builtin_function_or_method",
    "instance",
    "_Feature"
   ],
   "window_display": false
  }
 },
 "nbformat": 4,
 "nbformat_minor": 5
}
