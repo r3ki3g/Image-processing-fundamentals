{
 "cells": [
  {
   "cell_type": "markdown",
   "id": "40837bbb",
   "metadata": {},
   "source": [
    "# Integer recognition - Attempt 02\n",
    "\n",
    "Expectation: Recognize digit 2 & 4 distinctively with a ML code entirely implemented by me from the scratch<br/>\n",
    "<hr/>\n",
    "Data set for \"2\" : D:/ENTC/SEM_4/EN2550 - Fundamentals of Image Processing and Machine Vision/~images/int-rec/2/ <br/>\n",
    "Data set for \"4\" : D:/ENTC/SEM_4/EN2550 - Fundamentals of Image Processing and Machine Vision/~images/int-rec/4/\n"
   ]
  },
  {
   "cell_type": "code",
   "execution_count": 114,
   "id": "5cd09702",
   "metadata": {
    "ExecuteTime": {
     "end_time": "2022-04-14T21:48:28.720887Z",
     "start_time": "2022-04-14T21:48:28.705854Z"
    }
   },
   "outputs": [],
   "source": [
    "dataFolder2 = r\"D:/ENTC/SEM_4/EN2550 - Fundamentals of Image Processing and Machine Vision/~images/int-rec/2/\"\n",
    "dataFiles2 = os.listdir(dataFolder2)"
   ]
  },
  {
   "cell_type": "markdown",
   "id": "9a8fd85e",
   "metadata": {},
   "source": [
    "### Importing libraries"
   ]
  },
  {
   "cell_type": "code",
   "execution_count": 77,
   "id": "ebf93a58",
   "metadata": {
    "ExecuteTime": {
     "end_time": "2022-04-14T21:21:06.592533Z",
     "start_time": "2022-04-14T21:21:06.585513Z"
    }
   },
   "outputs": [],
   "source": [
    "import cv2 as cv\n",
    "import time\n",
    "import os\n",
    "import numpy as np\n",
    "import scipy\n",
    "import matplotlib.pyplot as plt\n",
    "import scipy.signal as sig\n",
    "import pprint\n",
    "import json\n",
    "import scipy.stats as scistat"
   ]
  },
  {
   "cell_type": "markdown",
   "id": "38acea4c",
   "metadata": {},
   "source": [
    "### Generating random kernels/filters to detect basic shapes from data images\n",
    "\n",
    "also saving them as JSON for back up"
   ]
  },
  {
   "cell_type": "code",
   "execution_count": 31,
   "id": "e5361f14",
   "metadata": {
    "ExecuteTime": {
     "end_time": "2022-04-14T20:02:50.915663Z",
     "start_time": "2022-04-14T20:02:50.884653Z"
    }
   },
   "outputs": [],
   "source": [
    "ksize =5\n",
    "kernelCount = 50\n",
    "cmap=\"gray\"\n",
    "\n",
    "filters = []\n",
    "tries =0\n",
    "while len(filters) < kernelCount:\n",
    "    tries += 1\n",
    "    testKernel = np.random.rand(ksize,ksize)\n",
    "    testKernel -= np.mean(testKernel)\n",
    "    testKernel = 2*np.array(testKernel > 0,np.float32) \n",
    "    testKernel -= 1\n",
    "    testKernel[testKernel.shape[0]//2,testKernel.shape[1]//2] -= np.sum(testKernel)\n",
    "    \n",
    "    #checking if this kernel already in the filters array\n",
    "    isUnique =1\n",
    "    for filter in filters:\n",
    "        if np.all(filter==testKernel):\n",
    "            isUnique = 0\n",
    "    if isUnique:\n",
    "        filters.append(testKernel)\n",
    "\n",
    "        \n",
    "#saving filters as json \n",
    "filtersJsonFolder = \"D:/ENTC/SEM_4/EN2550 - Fundamentals of Image Processing and Machine Vision/Image-processing-fundamentals/integer-rec/\"\n",
    "filtersAsArrays = [] #because numpy arrays cannot be converted to JSON obj\n",
    "for filter in filters:\n",
    "    filtersAsArrays.append(filter.tolist())\n",
    "f=open(filtersJsonFolder + str(time.time()) + \".txt\",\"w\")\n",
    "f.write(json.dumps(filtersAsArrays))\n",
    "f.close()\n",
    "\n"
   ]
  },
  {
   "cell_type": "markdown",
   "id": "61310eee",
   "metadata": {},
   "source": [
    "### Feature threshold values\n",
    "After filtering, the results should be cleaned. So the non-dominant activations will be zeroed using these thresholds.\n"
   ]
  },
  {
   "cell_type": "code",
   "execution_count": 32,
   "id": "49498c9e",
   "metadata": {
    "ExecuteTime": {
     "end_time": "2022-04-14T20:05:23.750854Z",
     "start_time": "2022-04-14T20:05:23.733888Z"
    },
    "scrolled": false
   },
   "outputs": [],
   "source": [
    "featureTresVals = [0.5,0.6,0.7,0.8,0.9]"
   ]
  },
  {
   "cell_type": "markdown",
   "id": "9ee74081",
   "metadata": {},
   "source": [
    "## Training for \"2\"\n"
   ]
  },
  {
   "cell_type": "code",
   "execution_count": 115,
   "id": "11c1f69e",
   "metadata": {
    "ExecuteTime": {
     "end_time": "2022-04-14T21:48:33.371908Z",
     "start_time": "2022-04-14T21:48:33.368862Z"
    }
   },
   "outputs": [],
   "source": [
    "trainingDataFileFolder = dataFolder2\n",
    "trainingFiles = dataFiles2\n",
    "dataFileCount = len(trainingFiles)"
   ]
  },
  {
   "cell_type": "markdown",
   "id": "6bfa57ba",
   "metadata": {},
   "source": [
    "### Parameters \n",
    "There are $N_k$ kernels and $N_t$ threshold  values, resulting in $N_kN_t$ processes.<br/>\n",
    "Let result from one of those process be $R_{ij}$ ; $i = kernel\\ index$ and $j = threshold\\ index$ \n",
    "<br/>\n",
    "Output should be a weighted sum of all process results ($R_{ij}$)\n",
    "<br/>\n",
    "Those weights are the parameters, which are changed to minimize the error\n",
    "<br/>\n",
    "As $R_{ij}$ are 2D, these parameters $\\alpha_{ij}$ also are 2D\n",
    "<br/>\n",
    "In this \"params\" variable, all the 2D-parameters are saved as a matrix.So variable param is a 4D-array.\n",
    "\n",
    "\n",
    "<hr/>\n",
    "\n",
    "First the initial parameters are generated/guessed as the averageZeroed normalized average of all the results (per process).<br/>\n",
    "Which is better than starting from a random 2D array!"
   ]
  },
  {
   "cell_type": "markdown",
   "id": "9f18f950",
   "metadata": {},
   "source": [
    "### Initializing param"
   ]
  },
  {
   "cell_type": "code",
   "execution_count": 54,
   "id": "36454f08",
   "metadata": {
    "ExecuteTime": {
     "end_time": "2022-04-14T20:49:07.535034Z",
     "start_time": "2022-04-14T20:49:01.944882Z"
    }
   },
   "outputs": [],
   "source": [
    "#initial parameters are generated/guessed as the normalized average of all the results (per process)\n",
    "params = []\n",
    "for filterIndex in range(len(filters)):\n",
    "    thisFilter = filters[filterIndex]\n",
    "    parameterArrayForThisKernel =[]\n",
    "    for featureTres in featureTresVals:\n",
    "        avgForProcess = 0 #will be a 2D image (average)\n",
    "        for fileIndex in range(len(trainingFiles)):\n",
    "            filePath = trainingDataFileFolder + trainingFiles[fileIndex]\n",
    "            dataImg = cv.imread(filePath,0)\n",
    "            assert dataImg is not None\n",
    "            dataImg = dataImg.astype(np.float32)\n",
    "            \n",
    "            filtered = cv.filter2D(dataImg,-1,thisFilter)\n",
    "            thresholderMask = filtered > np.max(filtered) * featureTres\n",
    "            thresholdedResult = filtered*thresholderMask\n",
    "            \n",
    "            \n",
    "            if not fileIndex:\n",
    "                avgForProcess = thresholdedResult/dataFileCount\n",
    "            else:\n",
    "                avgForProcess += thresholdedResult/dataFileCount\n",
    "                \n",
    "        avgForProcess /= np.sum(avgForProcess) #normalizing\n",
    "        avgForProcess -= np.mean(avgForProcess) #mean zeroing\n",
    "        parameterArrayForThisKernel.append(avgForProcess)\n",
    "    params.append(parameterArrayForThisKernel)    \n",
    "        "
   ]
  },
  {
   "cell_type": "code",
   "execution_count": 56,
   "id": "3b70750e",
   "metadata": {
    "ExecuteTime": {
     "end_time": "2022-04-14T20:49:54.571020Z",
     "start_time": "2022-04-14T20:49:54.553965Z"
    }
   },
   "outputs": [
    {
     "data": {
      "text/plain": [
       "-0.0003138732"
      ]
     },
     "execution_count": 56,
     "metadata": {},
     "output_type": "execute_result"
    }
   ],
   "source": [
    "params[0][0][50][4]"
   ]
  },
  {
   "cell_type": "markdown",
   "id": "67e3f217",
   "metadata": {},
   "source": [
    "### Fine tuning \"params\" the 4D array\n",
    "\"prams\" has $N_k$ X $N_t$ X $h_{data}$ X $w_{data}$  parameters\n",
    "<br/>\n",
    "Only for each process, each 2D_parameter will be scaled. That is; their distribution is only depending on the average of results.\n"
   ]
  },
  {
   "cell_type": "code",
   "execution_count": 100,
   "id": "3bae99aa",
   "metadata": {
    "ExecuteTime": {
     "end_time": "2022-04-14T21:34:22.297078Z",
     "start_time": "2022-04-14T21:34:22.175764Z"
    }
   },
   "outputs": [
    {
     "name": "stdout",
     "output_type": "stream",
     "text": [
      "0.0019511478\n",
      "0.002365036\n",
      "0.003461623\n",
      "0.0050414195\n",
      "0.017436909\n",
      "0.0018981409\n",
      "0.0022031409\n",
      "0.0028245435\n",
      "0.0045064725\n",
      "0.008498594\n",
      "0.00169882\n",
      "0.0018711186\n",
      "0.0021022481\n",
      "0.0028269992\n",
      "0.004601555\n",
      "0.0022007055\n",
      "0.0025869622\n",
      "0.0028677052\n",
      "0.0028585582\n",
      "0.002854515\n",
      "0.0020149448\n",
      "0.0026686992\n",
      "0.004380267\n",
      "0.005731773\n",
      "0.008971195\n",
      "0.0036948726\n",
      "0.0053247386\n",
      "0.007259367\n",
      "0.0127097145\n",
      "0.0153794745\n",
      "0.0021007648\n",
      "0.002644267\n",
      "0.0031293142\n",
      "0.0043135798\n",
      "0.007907291\n",
      "0.0029042969\n",
      "0.005194563\n",
      "0.008211745\n",
      "0.01707378\n",
      "0.034965567\n",
      "0.0017413619\n",
      "0.0021236148\n",
      "0.002241756\n",
      "0.004081334\n",
      "0.007651536\n",
      "0.0020975887\n",
      "0.0023499716\n",
      "0.0023504077\n",
      "0.002668179\n",
      "0.0038502226\n",
      "0.0018911053\n",
      "0.00249955\n",
      "0.0056682997\n",
      "0.020853\n",
      "0.03728337\n",
      "0.002544811\n",
      "0.0029122322\n",
      "0.003002642\n",
      "0.0034847427\n",
      "0.0060499837\n",
      "0.0025359835\n",
      "0.0035782836\n",
      "0.006838162\n",
      "0.015628863\n",
      "0.03168341\n",
      "0.0021063692\n",
      "0.003175661\n",
      "0.005446742\n",
      "0.016759507\n",
      "0.020912929\n",
      "0.0017797165\n",
      "0.002493152\n",
      "0.0041748355\n",
      "0.0077590914\n",
      "0.016215345\n",
      "0.0022369334\n",
      "0.0026905993\n",
      "0.0033476902\n",
      "0.0061570685\n",
      "0.011980214\n",
      "0.0023807487\n",
      "0.002924698\n",
      "0.0034715063\n",
      "0.0065863114\n",
      "0.019734833\n",
      "0.0019390892\n",
      "0.0023192093\n",
      "0.003047959\n",
      "0.003983568\n",
      "0.0060284506\n",
      "0.0024150792\n",
      "0.0028052262\n",
      "0.0031114575\n",
      "0.0038669924\n",
      "0.0068695946\n",
      "0.0019063049\n",
      "0.0028427867\n",
      "0.006313624\n",
      "0.018157355\n",
      "0.038704272\n",
      "0.0017831572\n",
      "0.0022860938\n",
      "0.0028254509\n",
      "0.0048055225\n",
      "0.016141877\n",
      "0.0021357718\n",
      "0.0027347454\n",
      "0.0038298313\n",
      "0.0043450296\n",
      "0.015094677\n",
      "0.0032235803\n",
      "0.004072052\n",
      "0.0054165707\n",
      "0.0072338074\n",
      "0.004329722\n",
      "0.0014444145\n",
      "0.0016230989\n",
      "0.0020483108\n",
      "0.0019769762\n",
      "0.004554456\n",
      "0.0014942663\n",
      "0.0016714351\n",
      "0.002295346\n",
      "0.0033507883\n",
      "0.0039479025\n",
      "0.0020521856\n",
      "0.0024325405\n",
      "0.0028508438\n",
      "0.0030917358\n",
      "0.0034815145\n",
      "0.0030007367\n",
      "0.0039523947\n",
      "0.0050130216\n",
      "0.007345548\n",
      "0.011468313\n",
      "0.0016552263\n",
      "0.001888702\n",
      "0.0023209846\n",
      "0.0025289785\n",
      "0.0031248066\n",
      "0.0018455642\n",
      "0.00229873\n",
      "0.0032908756\n",
      "0.005842848\n",
      "0.007819949\n",
      "0.0019849301\n",
      "0.0022212905\n",
      "0.0025408198\n",
      "0.003132147\n",
      "0.0042473064\n",
      "0.0021667932\n",
      "0.0026206858\n",
      "0.0034638229\n",
      "0.0053307908\n",
      "0.010640822\n",
      "0.0021046884\n",
      "0.0040292186\n",
      "0.006097912\n",
      "0.0067350087\n",
      "0.010943161\n",
      "0.002414837\n",
      "0.0030051253\n",
      "0.0040159407\n",
      "0.004892793\n",
      "0.008090375\n",
      "0.0017842945\n",
      "0.0018791\n",
      "0.0021738238\n",
      "0.0027083196\n",
      "0.006752151\n",
      "0.0022184243\n",
      "0.0026438823\n",
      "0.0030771673\n",
      "0.003938998\n",
      "0.004331089\n",
      "0.0021003373\n",
      "0.0025833272\n",
      "0.0031151543\n",
      "0.004354696\n",
      "0.009024412\n",
      "0.0021901077\n",
      "0.002845511\n",
      "0.0039269594\n",
      "0.0040233084\n",
      "0.008912597\n",
      "0.003119327\n",
      "0.0038530133\n",
      "0.004511149\n",
      "0.005642161\n",
      "0.008641629\n",
      "0.0031164573\n",
      "0.0039112554\n",
      "0.0055759475\n",
      "0.0071987924\n",
      "0.008068452\n",
      "0.0050180904\n",
      "0.006459268\n",
      "0.009039616\n",
      "0.011487308\n",
      "0.027280835\n",
      "0.0017339333\n",
      "0.0019614869\n",
      "0.0027597384\n",
      "0.008583574\n",
      "0.01835049\n",
      "0.0019526052\n",
      "0.0026116609\n",
      "0.0042851167\n",
      "0.0055623297\n",
      "0.015741216\n",
      "0.0016567088\n",
      "0.0020872545\n",
      "0.002570775\n",
      "0.0035053568\n",
      "0.0053791837\n",
      "0.0020799944\n",
      "0.0026612808\n",
      "0.0032841084\n",
      "0.0061155846\n",
      "0.011375585\n",
      "0.00163352\n",
      "0.0018465866\n",
      "0.0022544423\n",
      "0.0030369523\n",
      "0.0031679277\n",
      "0.0017610344\n",
      "0.0021883384\n",
      "0.0030621518\n",
      "0.0063169324\n",
      "0.016364602\n",
      "0.0015495289\n",
      "0.0018880353\n",
      "0.0022318086\n",
      "0.0023222954\n",
      "0.007474138\n",
      "0.004349284\n",
      "0.004963788\n",
      "0.006095711\n",
      "0.0067635006\n",
      "0.010412312\n",
      "0.002427583\n",
      "0.0037929418\n",
      "0.0057739294\n",
      "0.01024098\n",
      "0.017300254\n",
      "0.001960276\n",
      "0.002476003\n",
      "0.0023727412\n",
      "0.0037151573\n",
      "0.008780329\n"
     ]
    }
   ],
   "source": [
    "paramRes = []\n",
    "for filterIndex in range(len(filters)):\n",
    "    thisFilter = filters[filterIndex]\n",
    "    parameterArrayForThisKernel =[]\n",
    "    for featureTresIndex in range(len(featureTresVals)):\n",
    "        featureTres = featureTresVals[featureTresIndex]\n",
    "        \n",
    "        #the parameter (2D) for this process (consisting by this kernel and treshold)\n",
    "        parameter2D = params[filterIndex][featureTresIndex] #normalized,averageZeroed\n",
    "        \n",
    "        for fileIndex in range(len(trainingFiles)):\n",
    "            filePath = trainingDataFileFolder + trainingFiles[fileIndex]\n",
    "            dataImg = cv.imread(filePath,0)\n",
    "            assert dataImg is not None\n",
    "            dataImg = dataImg.astype(np.float32)\n",
    "            \n",
    "            filtered = cv.filter2D(dataImg,-1,thisFilter)\n",
    "            thresholderMask = filtered > np.max(filtered) * featureTres\n",
    "            thresholdedResult = filtered*thresholderMask\n",
    "            thresholdedResultNorm = thresholdedResult / np.sum(thresholdedResult)#normalizing\n",
    "            thresholdedResultNormAVGZERO = thresholdedResultNorm - np.mean(thresholdedResultNorm) #averageZeroing\n",
    "            correlation = np.sum(thresholdedResultNormAVGZERO*parameter2D)\n",
    "            print(correlation)\n",
    "            paramRes.append(correlation)\n",
    "            break\n",
    "                \n",
    "           \n",
    "        "
   ]
  },
  {
   "cell_type": "code",
   "execution_count": 120,
   "id": "25641fa0",
   "metadata": {
    "ExecuteTime": {
     "end_time": "2022-04-14T21:49:03.561177Z",
     "start_time": "2022-04-14T21:49:01.430317Z"
    }
   },
   "outputs": [
    {
     "name": "stdout",
     "output_type": "stream",
     "text": [
      "c 250\n",
      "c 250\n",
      "c 250\n",
      "c 245\n",
      "c 249\n",
      "c 248\n",
      "c 249\n",
      "c 250\n",
      "c 247\n",
      "c 218\n",
      "c 209\n",
      "c 215\n",
      "c 243\n",
      "c 242\n",
      "c 249\n",
      "c 244\n",
      "c 249\n",
      "c 233\n",
      "c 204\n",
      "c 249\n",
      "c 250\n",
      "c 195\n",
      "c 229\n",
      "c 164\n",
      "c 249\n",
      "c 250\n",
      "c 231\n",
      "c 225\n",
      "c 238\n",
      "c 249\n",
      "c 232\n",
      "c 250\n",
      "c 228\n",
      "c 86\n",
      "c 139\n",
      "c 250\n",
      "c 240\n",
      "c 249\n",
      "c 250\n",
      "c 250\n",
      "c 250\n",
      "c 208\n",
      "c 223\n",
      "c 250\n",
      "c 248\n",
      "c 220\n",
      "c 249\n",
      "c 249\n",
      "c 250\n",
      "c 130\n",
      "c 191\n",
      "c 233\n",
      "c 248\n",
      "c 220\n",
      "c 246\n",
      "c 125\n",
      "c 250\n",
      "c 136\n",
      "c 245\n",
      "c 250\n",
      "c 247\n",
      "c 250\n",
      "c 195\n",
      "c 250\n",
      "c 243\n",
      "c 248\n",
      "c 250\n",
      "c 249\n",
      "c 249\n",
      "c 248\n",
      "c 122\n",
      "c 250\n",
      "c 233\n",
      "c 242\n",
      "c 175\n",
      "c 248\n",
      "c 250\n",
      "c 239\n",
      "c 250\n",
      "c 240\n",
      "c 242\n",
      "c 250\n",
      "c 232\n",
      "c 249\n",
      "c 250\n",
      "c 250\n",
      "c 250\n",
      "c 149\n",
      "c 246\n",
      "c 250\n",
      "c 245\n",
      "c 242\n",
      "c 250\n",
      "c 231\n",
      "c 250\n"
     ]
    }
   ],
   "source": [
    "\n",
    "for fileIndex in range(len(trainingFiles)):\n",
    "    paramRes = []\n",
    "    filePath = trainingDataFileFolder + trainingFiles[fileIndex]\n",
    "    dataImg = cv.imread(filePath,0)\n",
    "    assert dataImg is not None\n",
    "    dataImg = dataImg.astype(np.float32)\n",
    "    \n",
    "    for filterIndex in range(len(filters)):\n",
    "        corrsForThisFilter =[]\n",
    "        thisFilter = filters[filterIndex]\n",
    "        parameterArrayForThisKernel =[]\n",
    "        for featureTresIndex in range(len(featureTresVals)):\n",
    "            featureTres = featureTresVals[featureTresIndex]\n",
    "\n",
    "            #the parameter (2D) for this process (consisting by this kernel and treshold)\n",
    "            parameter2D = params[filterIndex][featureTresIndex] #normalized,averageZeroed\n",
    "\n",
    "        \n",
    "            \n",
    "            filtered = cv.filter2D(dataImg,-1,thisFilter)\n",
    "            thresholderMask = filtered > np.max(filtered) * featureTres\n",
    "            thresholdedResult = filtered*thresholderMask\n",
    "            thresholdedResultNorm = thresholdedResult / np.sum(thresholdedResult)#normalizing\n",
    "            thresholdedResultNormAVGZERO = thresholdedResultNorm - np.mean(thresholdedResultNorm) #averageZeroing\n",
    "            correlation = np.sum(thresholdedResultNormAVGZERO*parameter2D)\n",
    "            #print(correlation)\n",
    "            corrsForThisFilter.append(correlation)\n",
    "        paramRes.append(corrsForThisFilter)\n",
    "        \n",
    "    npParamRes = np.array(paramRes)\n",
    "    dominant = np.logical_and(npParamRes > 0,npParamRes>0.001)\n",
    "    print(\"c\",np.sum(dominant))\n",
    "                \n",
    "           \n",
    "        "
   ]
  },
  {
   "cell_type": "code",
   "execution_count": 101,
   "id": "19d1f552",
   "metadata": {
    "ExecuteTime": {
     "end_time": "2022-04-14T21:34:28.391208Z",
     "start_time": "2022-04-14T21:34:28.375252Z"
    }
   },
   "outputs": [
    {
     "name": "stdout",
     "output_type": "stream",
     "text": [
      "total params 250\n"
     ]
    },
    {
     "data": {
      "text/plain": [
       "0"
      ]
     },
     "execution_count": 101,
     "metadata": {},
     "output_type": "execute_result"
    }
   ],
   "source": [
    "print(\"total params\",len(paramRes))\n",
    "npParamRes = np.array(paramRes)\n",
    "\n",
    "np.sum(npParamRes <0)"
   ]
  }
 ],
 "metadata": {
  "kernelspec": {
   "display_name": "Python 3 (ipykernel)",
   "language": "python",
   "name": "python3"
  },
  "language_info": {
   "codemirror_mode": {
    "name": "ipython",
    "version": 3
   },
   "file_extension": ".py",
   "mimetype": "text/x-python",
   "name": "python",
   "nbconvert_exporter": "python",
   "pygments_lexer": "ipython3",
   "version": "3.9.1"
  },
  "latex_envs": {
   "LaTeX_envs_menu_present": true,
   "autoclose": false,
   "autocomplete": true,
   "bibliofile": "biblio.bib",
   "cite_by": "apalike",
   "current_citInitial": 1,
   "eqLabelWithNumbers": true,
   "eqNumInitial": 1,
   "hotkeys": {
    "equation": "Ctrl-E",
    "itemize": "Ctrl-I"
   },
   "labels_anchors": false,
   "latex_user_defs": false,
   "report_style_numbering": false,
   "user_envs_cfg": false
  },
  "toc": {
   "base_numbering": 1,
   "nav_menu": {},
   "number_sections": true,
   "sideBar": true,
   "skip_h1_title": false,
   "title_cell": "Table of Contents",
   "title_sidebar": "Contents",
   "toc_cell": false,
   "toc_position": {
    "height": "calc(100% - 180px)",
    "left": "10px",
    "top": "150px",
    "width": "273.433px"
   },
   "toc_section_display": true,
   "toc_window_display": true
  },
  "varInspector": {
   "cols": {
    "lenName": 16,
    "lenType": 16,
    "lenVar": 40
   },
   "kernels_config": {
    "python": {
     "delete_cmd_postfix": "",
     "delete_cmd_prefix": "del ",
     "library": "var_list.py",
     "varRefreshCmd": "print(var_dic_list())"
    },
    "r": {
     "delete_cmd_postfix": ") ",
     "delete_cmd_prefix": "rm(",
     "library": "var_list.r",
     "varRefreshCmd": "cat(var_dic_list()) "
    }
   },
   "types_to_exclude": [
    "module",
    "function",
    "builtin_function_or_method",
    "instance",
    "_Feature"
   ],
   "window_display": false
  }
 },
 "nbformat": 4,
 "nbformat_minor": 5
}
